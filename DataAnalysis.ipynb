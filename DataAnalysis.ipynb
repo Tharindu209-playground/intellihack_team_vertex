{
  "nbformat": 4,
  "nbformat_minor": 0,
  "metadata": {
    "colab": {
      "provenance": []
    },
    "kernelspec": {
      "name": "python3",
      "display_name": "Python 3"
    },
    "language_info": {
      "name": "python"
    }
  },
  "cells": [
    {
      "cell_type": "code",
      "execution_count": 16,
      "metadata": {
        "colab": {
          "base_uri": "https://localhost:8080/"
        },
        "id": "uoFvXyiHMnzp",
        "outputId": "9e4c6998-0ec4-4bcb-8682-36506ee8e8a3"
      },
      "outputs": [
        {
          "output_type": "stream",
          "name": "stdout",
          "text": [
            "Cloning into 'intellihack_team_vertex_task_1'...\n",
            "remote: Enumerating objects: 12, done.\u001b[K\n",
            "remote: Counting objects:   8% (1/12)\u001b[K\rremote: Counting objects:  16% (2/12)\u001b[K\rremote: Counting objects:  25% (3/12)\u001b[K\rremote: Counting objects:  33% (4/12)\u001b[K\rremote: Counting objects:  41% (5/12)\u001b[K\rremote: Counting objects:  50% (6/12)\u001b[K\rremote: Counting objects:  58% (7/12)\u001b[K\rremote: Counting objects:  66% (8/12)\u001b[K\rremote: Counting objects:  75% (9/12)\u001b[K\rremote: Counting objects:  83% (10/12)\u001b[K\rremote: Counting objects:  91% (11/12)\u001b[K\rremote: Counting objects: 100% (12/12)\u001b[K\rremote: Counting objects: 100% (12/12), done.\u001b[K\n",
            "remote: Compressing objects:  14% (1/7)\u001b[K\rremote: Compressing objects:  28% (2/7)\u001b[K\rremote: Compressing objects:  42% (3/7)\u001b[K\rremote: Compressing objects:  57% (4/7)\u001b[K\rremote: Compressing objects:  71% (5/7)\u001b[K\rremote: Compressing objects:  85% (6/7)\u001b[K\rremote: Compressing objects: 100% (7/7)\u001b[K\rremote: Compressing objects: 100% (7/7), done.\u001b[K\n",
            "remote: Total 12 (delta 1), reused 0 (delta 0), pack-reused 0\u001b[K\n",
            "Receiving objects:   8% (1/12)\rReceiving objects:  16% (2/12)\rReceiving objects:  25% (3/12)\rReceiving objects:  33% (4/12)\rReceiving objects:  41% (5/12)\rReceiving objects:  50% (6/12)\rReceiving objects:  58% (7/12)\rReceiving objects:  66% (8/12)\rReceiving objects:  75% (9/12)\rReceiving objects:  83% (10/12)\rReceiving objects:  91% (11/12)\rReceiving objects: 100% (12/12)\rReceiving objects: 100% (12/12), done.\n",
            "Resolving deltas:   0% (0/1)\rResolving deltas: 100% (1/1)\rResolving deltas: 100% (1/1), done.\n",
            "/content/intellihack_team_vertex_task_1/intellihack_team_vertex_task_1\n"
          ]
        }
      ],
      "source": [
        "# Cloning repository\n",
        "!git clone https://github.com/Tharindu209-playground/intellihack_team_vertex_task_1.git\n",
        "\n",
        "%cd intellihack_team_vertex_task_1/\n"
      ]
    },
    {
      "cell_type": "code",
      "source": [
        "!git checkout phase1\n",
        "!git status\n",
        "!git pull origin phase1\n",
        "\n"
      ],
      "metadata": {
        "colab": {
          "base_uri": "https://localhost:8080/"
        },
        "id": "HP37SNS-SZVu",
        "outputId": "39f96c70-0926-41db-8fb5-710361d88442"
      },
      "execution_count": 17,
      "outputs": [
        {
          "output_type": "stream",
          "name": "stdout",
          "text": [
            "Branch 'phase1' set up to track remote branch 'phase1' from 'origin'.\n",
            "Switched to a new branch 'phase1'\n",
            "On branch phase1\n",
            "Your branch is up to date with 'origin/phase1'.\n",
            "\n",
            "nothing to commit, working tree clean\n",
            "From https://github.com/Tharindu209-playground/intellihack_team_vertex_task_1\n",
            " * branch            phase1     -> FETCH_HEAD\n",
            "Already up to date.\n"
          ]
        }
      ]
    },
    {
      "cell_type": "code",
      "source": [
        "print(\"sample txt\")"
      ],
      "metadata": {
        "colab": {
          "base_uri": "https://localhost:8080/"
        },
        "id": "5mCP9HiUTXml",
        "outputId": "a990012e-e85e-4988-c9d4-93d3ea254bbd"
      },
      "execution_count": 18,
      "outputs": [
        {
          "output_type": "stream",
          "name": "stdout",
          "text": [
            "sample txt\n"
          ]
        }
      ]
    },
    {
      "cell_type": "code",
      "source": [
        "# Configuring Git coder's name\n",
        "!git config --global user.name \"Sahan Heshan\"\n",
        "!git config --global user.email \"dshsamarathunga@gmail.com\"\n",
        "\n",
        "# Stage changes\n",
        "!git add ./DataAnalysis.ipynb\n",
        "\n",
        "# Commit changes\n",
        "!git commit -m \"Update 0x\"\n",
        "\n",
        "# Push changes\n",
        "!git push origin phase1"
      ],
      "metadata": {
        "colab": {
          "base_uri": "https://localhost:8080/"
        },
        "id": "2zmy_oqtSkZg",
        "outputId": "303d7c0f-8051-4828-ae20-ef317420b700"
      },
      "execution_count": 22,
      "outputs": [
        {
          "output_type": "stream",
          "name": "stdout",
          "text": [
            "fatal: pathspec './DataAnalysis.ipynb' did not match any files\n",
            "On branch phase1\n",
            "Your branch is up to date with 'origin/phase1'.\n",
            "\n",
            "nothing to commit, working tree clean\n",
            "fatal: could not read Username for 'https://github.com': No such device or address\n"
          ]
        }
      ]
    },
    {
      "cell_type": "code",
      "source": [],
      "metadata": {
        "id": "IGWuNN73TxYQ"
      },
      "execution_count": null,
      "outputs": []
    }
  ]
}