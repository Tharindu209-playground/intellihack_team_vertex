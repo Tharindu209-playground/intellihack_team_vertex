{
  "nbformat": 4,
  "nbformat_minor": 0,
  "metadata": {
    "colab": {
      "provenance": [],
      "collapsed_sections": [
        "6BAHoM0kx8EF"
      ]
    },
    "kernelspec": {
      "name": "python3",
      "display_name": "Python 3"
    },
    "language_info": {
      "name": "python"
    }
  },
  "cells": [
    {
      "cell_type": "code",
      "source": [
        "# Cloning repository\n",
        "#!git clone https://github.com/Tharindu209-playground/intellihack_team_vertex_task_1.git\n",
        "\n",
        "#%cd intellihack_team_vertex_task_1/"
      ],
      "metadata": {
        "id": "2qxpoSUqclNq"
      },
      "execution_count": 203,
      "outputs": []
    },
    {
      "cell_type": "code",
      "source": [
        "# !git checkout phase1\n",
        "# !git status\n",
        "# !git pull origin phase1"
      ],
      "metadata": {
        "id": "Y7xURzx6cq5L"
      },
      "execution_count": 204,
      "outputs": []
    },
    {
      "cell_type": "markdown",
      "source": [
        "## 1. Data Exploraton:\n",
        "Trying to visualise and understand the dataset.\n"
      ],
      "metadata": {
        "id": "8m_U8zdRacfr"
      }
    },
    {
      "cell_type": "code",
      "source": [
        "#initial dependencies\n",
        "import pandas as pd\n",
        "import matplotlib.pyplot as plt\n",
        "import numpy as np\n",
        "import seaborn as sns"
      ],
      "metadata": {
        "id": "gAgW_5WKaJAB"
      },
      "execution_count": 205,
      "outputs": []
    },
    {
      "cell_type": "markdown",
      "source": [
        "Connecting the dataset file(df) and checking the connectivity."
      ],
      "metadata": {
        "id": "WyPowDPSepsr"
      }
    },
    {
      "cell_type": "code",
      "source": [
        "df = pd.read_csv('/content/data/Crop_Dataset.csv')\n",
        "df.head(5)"
      ],
      "metadata": {
        "colab": {
          "base_uri": "https://localhost:8080/",
          "height": 206
        },
        "id": "CRKqhUPfbcsk",
        "outputId": "dee8a04b-2faf-40a8-a6f3-9576262efe2f"
      },
      "execution_count": 206,
      "outputs": [
        {
          "output_type": "execute_result",
          "data": {
            "text/plain": [
              "    N   P   K  temperature   humidity        ph    rainfall  Total_Nutrients  \\\n",
              "0  90  42  43    20.879744  82.002744  6.502985  202.935536              175   \n",
              "1  85  58  41    21.770462  80.319644  7.038096  226.655537              184   \n",
              "2  60  55  44    23.004459  82.320763  7.840207  263.964248              159   \n",
              "3  74  35  40    26.491096  80.158363  6.980401  242.864034              149   \n",
              "4  78  42  42    20.130175  81.604873  7.628473  262.717340              162   \n",
              "\n",
              "   Temperature_Humidity  Log_Rainfall  Label  Label_Encoded  \n",
              "0           1712.196283      5.317804  wheat              0  \n",
              "1           1748.595734      5.427834  wheat              0  \n",
              "2           1893.744627      5.579595  wheat              0  \n",
              "3           2123.482908      5.496611  wheat              0  \n",
              "4           1642.720357      5.574878  wheat              0  "
            ],
            "text/html": [
              "\n",
              "  <div id=\"df-48161c70-c693-4774-a62e-a998af8d7869\" class=\"colab-df-container\">\n",
              "    <div>\n",
              "<style scoped>\n",
              "    .dataframe tbody tr th:only-of-type {\n",
              "        vertical-align: middle;\n",
              "    }\n",
              "\n",
              "    .dataframe tbody tr th {\n",
              "        vertical-align: top;\n",
              "    }\n",
              "\n",
              "    .dataframe thead th {\n",
              "        text-align: right;\n",
              "    }\n",
              "</style>\n",
              "<table border=\"1\" class=\"dataframe\">\n",
              "  <thead>\n",
              "    <tr style=\"text-align: right;\">\n",
              "      <th></th>\n",
              "      <th>N</th>\n",
              "      <th>P</th>\n",
              "      <th>K</th>\n",
              "      <th>temperature</th>\n",
              "      <th>humidity</th>\n",
              "      <th>ph</th>\n",
              "      <th>rainfall</th>\n",
              "      <th>Total_Nutrients</th>\n",
              "      <th>Temperature_Humidity</th>\n",
              "      <th>Log_Rainfall</th>\n",
              "      <th>Label</th>\n",
              "      <th>Label_Encoded</th>\n",
              "    </tr>\n",
              "  </thead>\n",
              "  <tbody>\n",
              "    <tr>\n",
              "      <th>0</th>\n",
              "      <td>90</td>\n",
              "      <td>42</td>\n",
              "      <td>43</td>\n",
              "      <td>20.879744</td>\n",
              "      <td>82.002744</td>\n",
              "      <td>6.502985</td>\n",
              "      <td>202.935536</td>\n",
              "      <td>175</td>\n",
              "      <td>1712.196283</td>\n",
              "      <td>5.317804</td>\n",
              "      <td>wheat</td>\n",
              "      <td>0</td>\n",
              "    </tr>\n",
              "    <tr>\n",
              "      <th>1</th>\n",
              "      <td>85</td>\n",
              "      <td>58</td>\n",
              "      <td>41</td>\n",
              "      <td>21.770462</td>\n",
              "      <td>80.319644</td>\n",
              "      <td>7.038096</td>\n",
              "      <td>226.655537</td>\n",
              "      <td>184</td>\n",
              "      <td>1748.595734</td>\n",
              "      <td>5.427834</td>\n",
              "      <td>wheat</td>\n",
              "      <td>0</td>\n",
              "    </tr>\n",
              "    <tr>\n",
              "      <th>2</th>\n",
              "      <td>60</td>\n",
              "      <td>55</td>\n",
              "      <td>44</td>\n",
              "      <td>23.004459</td>\n",
              "      <td>82.320763</td>\n",
              "      <td>7.840207</td>\n",
              "      <td>263.964248</td>\n",
              "      <td>159</td>\n",
              "      <td>1893.744627</td>\n",
              "      <td>5.579595</td>\n",
              "      <td>wheat</td>\n",
              "      <td>0</td>\n",
              "    </tr>\n",
              "    <tr>\n",
              "      <th>3</th>\n",
              "      <td>74</td>\n",
              "      <td>35</td>\n",
              "      <td>40</td>\n",
              "      <td>26.491096</td>\n",
              "      <td>80.158363</td>\n",
              "      <td>6.980401</td>\n",
              "      <td>242.864034</td>\n",
              "      <td>149</td>\n",
              "      <td>2123.482908</td>\n",
              "      <td>5.496611</td>\n",
              "      <td>wheat</td>\n",
              "      <td>0</td>\n",
              "    </tr>\n",
              "    <tr>\n",
              "      <th>4</th>\n",
              "      <td>78</td>\n",
              "      <td>42</td>\n",
              "      <td>42</td>\n",
              "      <td>20.130175</td>\n",
              "      <td>81.604873</td>\n",
              "      <td>7.628473</td>\n",
              "      <td>262.717340</td>\n",
              "      <td>162</td>\n",
              "      <td>1642.720357</td>\n",
              "      <td>5.574878</td>\n",
              "      <td>wheat</td>\n",
              "      <td>0</td>\n",
              "    </tr>\n",
              "  </tbody>\n",
              "</table>\n",
              "</div>\n",
              "    <div class=\"colab-df-buttons\">\n",
              "\n",
              "  <div class=\"colab-df-container\">\n",
              "    <button class=\"colab-df-convert\" onclick=\"convertToInteractive('df-48161c70-c693-4774-a62e-a998af8d7869')\"\n",
              "            title=\"Convert this dataframe to an interactive table.\"\n",
              "            style=\"display:none;\">\n",
              "\n",
              "  <svg xmlns=\"http://www.w3.org/2000/svg\" height=\"24px\" viewBox=\"0 -960 960 960\">\n",
              "    <path d=\"M120-120v-720h720v720H120Zm60-500h600v-160H180v160Zm220 220h160v-160H400v160Zm0 220h160v-160H400v160ZM180-400h160v-160H180v160Zm440 0h160v-160H620v160ZM180-180h160v-160H180v160Zm440 0h160v-160H620v160Z\"/>\n",
              "  </svg>\n",
              "    </button>\n",
              "\n",
              "  <style>\n",
              "    .colab-df-container {\n",
              "      display:flex;\n",
              "      gap: 12px;\n",
              "    }\n",
              "\n",
              "    .colab-df-convert {\n",
              "      background-color: #E8F0FE;\n",
              "      border: none;\n",
              "      border-radius: 50%;\n",
              "      cursor: pointer;\n",
              "      display: none;\n",
              "      fill: #1967D2;\n",
              "      height: 32px;\n",
              "      padding: 0 0 0 0;\n",
              "      width: 32px;\n",
              "    }\n",
              "\n",
              "    .colab-df-convert:hover {\n",
              "      background-color: #E2EBFA;\n",
              "      box-shadow: 0px 1px 2px rgba(60, 64, 67, 0.3), 0px 1px 3px 1px rgba(60, 64, 67, 0.15);\n",
              "      fill: #174EA6;\n",
              "    }\n",
              "\n",
              "    .colab-df-buttons div {\n",
              "      margin-bottom: 4px;\n",
              "    }\n",
              "\n",
              "    [theme=dark] .colab-df-convert {\n",
              "      background-color: #3B4455;\n",
              "      fill: #D2E3FC;\n",
              "    }\n",
              "\n",
              "    [theme=dark] .colab-df-convert:hover {\n",
              "      background-color: #434B5C;\n",
              "      box-shadow: 0px 1px 3px 1px rgba(0, 0, 0, 0.15);\n",
              "      filter: drop-shadow(0px 1px 2px rgba(0, 0, 0, 0.3));\n",
              "      fill: #FFFFFF;\n",
              "    }\n",
              "  </style>\n",
              "\n",
              "    <script>\n",
              "      const buttonEl =\n",
              "        document.querySelector('#df-48161c70-c693-4774-a62e-a998af8d7869 button.colab-df-convert');\n",
              "      buttonEl.style.display =\n",
              "        google.colab.kernel.accessAllowed ? 'block' : 'none';\n",
              "\n",
              "      async function convertToInteractive(key) {\n",
              "        const element = document.querySelector('#df-48161c70-c693-4774-a62e-a998af8d7869');\n",
              "        const dataTable =\n",
              "          await google.colab.kernel.invokeFunction('convertToInteractive',\n",
              "                                                    [key], {});\n",
              "        if (!dataTable) return;\n",
              "\n",
              "        const docLinkHtml = 'Like what you see? Visit the ' +\n",
              "          '<a target=\"_blank\" href=https://colab.research.google.com/notebooks/data_table.ipynb>data table notebook</a>'\n",
              "          + ' to learn more about interactive tables.';\n",
              "        element.innerHTML = '';\n",
              "        dataTable['output_type'] = 'display_data';\n",
              "        await google.colab.output.renderOutput(dataTable, element);\n",
              "        const docLink = document.createElement('div');\n",
              "        docLink.innerHTML = docLinkHtml;\n",
              "        element.appendChild(docLink);\n",
              "      }\n",
              "    </script>\n",
              "  </div>\n",
              "\n",
              "\n",
              "<div id=\"df-a7ffc457-a014-416d-9816-e539ec97d613\">\n",
              "  <button class=\"colab-df-quickchart\" onclick=\"quickchart('df-a7ffc457-a014-416d-9816-e539ec97d613')\"\n",
              "            title=\"Suggest charts\"\n",
              "            style=\"display:none;\">\n",
              "\n",
              "<svg xmlns=\"http://www.w3.org/2000/svg\" height=\"24px\"viewBox=\"0 0 24 24\"\n",
              "     width=\"24px\">\n",
              "    <g>\n",
              "        <path d=\"M19 3H5c-1.1 0-2 .9-2 2v14c0 1.1.9 2 2 2h14c1.1 0 2-.9 2-2V5c0-1.1-.9-2-2-2zM9 17H7v-7h2v7zm4 0h-2V7h2v10zm4 0h-2v-4h2v4z\"/>\n",
              "    </g>\n",
              "</svg>\n",
              "  </button>\n",
              "\n",
              "<style>\n",
              "  .colab-df-quickchart {\n",
              "      --bg-color: #E8F0FE;\n",
              "      --fill-color: #1967D2;\n",
              "      --hover-bg-color: #E2EBFA;\n",
              "      --hover-fill-color: #174EA6;\n",
              "      --disabled-fill-color: #AAA;\n",
              "      --disabled-bg-color: #DDD;\n",
              "  }\n",
              "\n",
              "  [theme=dark] .colab-df-quickchart {\n",
              "      --bg-color: #3B4455;\n",
              "      --fill-color: #D2E3FC;\n",
              "      --hover-bg-color: #434B5C;\n",
              "      --hover-fill-color: #FFFFFF;\n",
              "      --disabled-bg-color: #3B4455;\n",
              "      --disabled-fill-color: #666;\n",
              "  }\n",
              "\n",
              "  .colab-df-quickchart {\n",
              "    background-color: var(--bg-color);\n",
              "    border: none;\n",
              "    border-radius: 50%;\n",
              "    cursor: pointer;\n",
              "    display: none;\n",
              "    fill: var(--fill-color);\n",
              "    height: 32px;\n",
              "    padding: 0;\n",
              "    width: 32px;\n",
              "  }\n",
              "\n",
              "  .colab-df-quickchart:hover {\n",
              "    background-color: var(--hover-bg-color);\n",
              "    box-shadow: 0 1px 2px rgba(60, 64, 67, 0.3), 0 1px 3px 1px rgba(60, 64, 67, 0.15);\n",
              "    fill: var(--button-hover-fill-color);\n",
              "  }\n",
              "\n",
              "  .colab-df-quickchart-complete:disabled,\n",
              "  .colab-df-quickchart-complete:disabled:hover {\n",
              "    background-color: var(--disabled-bg-color);\n",
              "    fill: var(--disabled-fill-color);\n",
              "    box-shadow: none;\n",
              "  }\n",
              "\n",
              "  .colab-df-spinner {\n",
              "    border: 2px solid var(--fill-color);\n",
              "    border-color: transparent;\n",
              "    border-bottom-color: var(--fill-color);\n",
              "    animation:\n",
              "      spin 1s steps(1) infinite;\n",
              "  }\n",
              "\n",
              "  @keyframes spin {\n",
              "    0% {\n",
              "      border-color: transparent;\n",
              "      border-bottom-color: var(--fill-color);\n",
              "      border-left-color: var(--fill-color);\n",
              "    }\n",
              "    20% {\n",
              "      border-color: transparent;\n",
              "      border-left-color: var(--fill-color);\n",
              "      border-top-color: var(--fill-color);\n",
              "    }\n",
              "    30% {\n",
              "      border-color: transparent;\n",
              "      border-left-color: var(--fill-color);\n",
              "      border-top-color: var(--fill-color);\n",
              "      border-right-color: var(--fill-color);\n",
              "    }\n",
              "    40% {\n",
              "      border-color: transparent;\n",
              "      border-right-color: var(--fill-color);\n",
              "      border-top-color: var(--fill-color);\n",
              "    }\n",
              "    60% {\n",
              "      border-color: transparent;\n",
              "      border-right-color: var(--fill-color);\n",
              "    }\n",
              "    80% {\n",
              "      border-color: transparent;\n",
              "      border-right-color: var(--fill-color);\n",
              "      border-bottom-color: var(--fill-color);\n",
              "    }\n",
              "    90% {\n",
              "      border-color: transparent;\n",
              "      border-bottom-color: var(--fill-color);\n",
              "    }\n",
              "  }\n",
              "</style>\n",
              "\n",
              "  <script>\n",
              "    async function quickchart(key) {\n",
              "      const quickchartButtonEl =\n",
              "        document.querySelector('#' + key + ' button');\n",
              "      quickchartButtonEl.disabled = true;  // To prevent multiple clicks.\n",
              "      quickchartButtonEl.classList.add('colab-df-spinner');\n",
              "      try {\n",
              "        const charts = await google.colab.kernel.invokeFunction(\n",
              "            'suggestCharts', [key], {});\n",
              "      } catch (error) {\n",
              "        console.error('Error during call to suggestCharts:', error);\n",
              "      }\n",
              "      quickchartButtonEl.classList.remove('colab-df-spinner');\n",
              "      quickchartButtonEl.classList.add('colab-df-quickchart-complete');\n",
              "    }\n",
              "    (() => {\n",
              "      let quickchartButtonEl =\n",
              "        document.querySelector('#df-a7ffc457-a014-416d-9816-e539ec97d613 button');\n",
              "      quickchartButtonEl.style.display =\n",
              "        google.colab.kernel.accessAllowed ? 'block' : 'none';\n",
              "    })();\n",
              "  </script>\n",
              "</div>\n",
              "\n",
              "    </div>\n",
              "  </div>\n"
            ],
            "application/vnd.google.colaboratory.intrinsic+json": {
              "type": "dataframe",
              "variable_name": "df",
              "summary": "{\n  \"name\": \"df\",\n  \"rows\": 2200,\n  \"fields\": [\n    {\n      \"column\": \"N\",\n      \"properties\": {\n        \"dtype\": \"number\",\n        \"std\": 36,\n        \"min\": 0,\n        \"max\": 140,\n        \"num_unique_values\": 137,\n        \"samples\": [\n          106,\n          101,\n          88\n        ],\n        \"semantic_type\": \"\",\n        \"description\": \"\"\n      }\n    },\n    {\n      \"column\": \"P\",\n      \"properties\": {\n        \"dtype\": \"number\",\n        \"std\": 32,\n        \"min\": 5,\n        \"max\": 145,\n        \"num_unique_values\": 117,\n        \"samples\": [\n          69,\n          37,\n          11\n        ],\n        \"semantic_type\": \"\",\n        \"description\": \"\"\n      }\n    },\n    {\n      \"column\": \"K\",\n      \"properties\": {\n        \"dtype\": \"number\",\n        \"std\": 50,\n        \"min\": 5,\n        \"max\": 205,\n        \"num_unique_values\": 73,\n        \"samples\": [\n          42,\n          12,\n          15\n        ],\n        \"semantic_type\": \"\",\n        \"description\": \"\"\n      }\n    },\n    {\n      \"column\": \"temperature\",\n      \"properties\": {\n        \"dtype\": \"number\",\n        \"std\": 5.063748599958843,\n        \"min\": 8.825674745,\n        \"max\": 43.67549305,\n        \"num_unique_values\": 2200,\n        \"samples\": [\n          29.49401389,\n          26.1793464,\n          43.36051537\n        ],\n        \"semantic_type\": \"\",\n        \"description\": \"\"\n      }\n    },\n    {\n      \"column\": \"humidity\",\n      \"properties\": {\n        \"dtype\": \"number\",\n        \"std\": 22.263811589761083,\n        \"min\": 14.25803981,\n        \"max\": 99.98187601,\n        \"num_unique_values\": 2200,\n        \"samples\": [\n          94.72981338,\n          86.52258079,\n          93.35191636\n        ],\n        \"semantic_type\": \"\",\n        \"description\": \"\"\n      }\n    },\n    {\n      \"column\": \"ph\",\n      \"properties\": {\n        \"dtype\": \"number\",\n        \"std\": 0.7739376880298733,\n        \"min\": 3.504752314,\n        \"max\": 9.93509073,\n        \"num_unique_values\": 2200,\n        \"samples\": [\n          6.185053234,\n          6.25933595,\n          6.941496806\n        ],\n        \"semantic_type\": \"\",\n        \"description\": \"\"\n      }\n    },\n    {\n      \"column\": \"rainfall\",\n      \"properties\": {\n        \"dtype\": \"number\",\n        \"std\": 54.95838852487813,\n        \"min\": 20.21126747,\n        \"max\": 298.5601175,\n        \"num_unique_values\": 2200,\n        \"samples\": [\n          26.30820876,\n          49.43050977,\n          114.778071\n        ],\n        \"semantic_type\": \"\",\n        \"description\": \"\"\n      }\n    },\n    {\n      \"column\": \"Total_Nutrients\",\n      \"properties\": {\n        \"dtype\": \"number\",\n        \"std\": 79,\n        \"min\": 17,\n        \"max\": 385,\n        \"num_unique_values\": 293,\n        \"samples\": [\n          173,\n          365,\n          177\n        ],\n        \"semantic_type\": \"\",\n        \"description\": \"\"\n      }\n    },\n    {\n      \"column\": \"Temperature_Humidity\",\n      \"properties\": {\n        \"dtype\": \"number\",\n        \"std\": 699.3663344045686,\n        \"min\": 247.6131816,\n        \"max\": 4073.159566,\n        \"num_unique_values\": 2200,\n        \"samples\": [\n          2793.962432,\n          2265.104614,\n          4047.787204\n        ],\n        \"semantic_type\": \"\",\n        \"description\": \"\"\n      }\n    },\n    {\n      \"column\": \"Log_Rainfall\",\n      \"properties\": {\n        \"dtype\": \"number\",\n        \"std\": 0.5453997953418638,\n        \"min\": 3.054532525,\n        \"max\": 5.702315124,\n        \"num_unique_values\": 2200,\n        \"samples\": [\n          3.307187344,\n          3.920596345,\n          4.751675178\n        ],\n        \"semantic_type\": \"\",\n        \"description\": \"\"\n      }\n    },\n    {\n      \"column\": \"Label\",\n      \"properties\": {\n        \"dtype\": \"category\",\n        \"num_unique_values\": 22,\n        \"samples\": [\n          \"wheat\",\n          \"plums\",\n          \"peas\"\n        ],\n        \"semantic_type\": \"\",\n        \"description\": \"\"\n      }\n    },\n    {\n      \"column\": \"Label_Encoded\",\n      \"properties\": {\n        \"dtype\": \"number\",\n        \"std\": 6,\n        \"min\": 0,\n        \"max\": 21,\n        \"num_unique_values\": 22,\n        \"samples\": [\n          0,\n          13,\n          8\n        ],\n        \"semantic_type\": \"\",\n        \"description\": \"\"\n      }\n    }\n  ]\n}"
            }
          },
          "metadata": {},
          "execution_count": 206
        }
      ]
    },
    {
      "cell_type": "markdown",
      "source": [
        "Basic insight about the data set."
      ],
      "metadata": {
        "id": "cRiD85z6Iusg"
      }
    },
    {
      "cell_type": "code",
      "source": [
        "df.shape\n",
        "df.info()\n",
        "df.describe()"
      ],
      "metadata": {
        "colab": {
          "base_uri": "https://localhost:8080/",
          "height": 630
        },
        "id": "ddtiC1o8d-lS",
        "outputId": "8bd05d63-d011-4a5d-9195-505ecd650ace"
      },
      "execution_count": 207,
      "outputs": [
        {
          "output_type": "stream",
          "name": "stdout",
          "text": [
            "<class 'pandas.core.frame.DataFrame'>\n",
            "RangeIndex: 2200 entries, 0 to 2199\n",
            "Data columns (total 12 columns):\n",
            " #   Column                Non-Null Count  Dtype  \n",
            "---  ------                --------------  -----  \n",
            " 0   N                     2200 non-null   int64  \n",
            " 1   P                     2200 non-null   int64  \n",
            " 2   K                     2200 non-null   int64  \n",
            " 3   temperature           2200 non-null   float64\n",
            " 4   humidity              2200 non-null   float64\n",
            " 5   ph                    2200 non-null   float64\n",
            " 6   rainfall              2200 non-null   float64\n",
            " 7   Total_Nutrients       2200 non-null   int64  \n",
            " 8   Temperature_Humidity  2200 non-null   float64\n",
            " 9   Log_Rainfall          2200 non-null   float64\n",
            " 10  Label                 2200 non-null   object \n",
            " 11  Label_Encoded         2200 non-null   int64  \n",
            "dtypes: float64(6), int64(5), object(1)\n",
            "memory usage: 206.4+ KB\n"
          ]
        },
        {
          "output_type": "execute_result",
          "data": {
            "text/plain": [
              "                 N            P            K  temperature     humidity  \\\n",
              "count  2200.000000  2200.000000  2200.000000  2200.000000  2200.000000   \n",
              "mean     50.551818    53.362727    48.149091    25.616244    71.481779   \n",
              "std      36.917334    32.985883    50.647931     5.063749    22.263812   \n",
              "min       0.000000     5.000000     5.000000     8.825675    14.258040   \n",
              "25%      21.000000    28.000000    20.000000    22.769375    60.261953   \n",
              "50%      37.000000    51.000000    32.000000    25.598693    80.473146   \n",
              "75%      84.250000    68.000000    49.000000    28.561654    89.948771   \n",
              "max     140.000000   145.000000   205.000000    43.675493    99.981876   \n",
              "\n",
              "                ph     rainfall  Total_Nutrients  Temperature_Humidity  \\\n",
              "count  2200.000000  2200.000000      2200.000000           2200.000000   \n",
              "mean      6.469480   103.463655       152.063636           1854.231566   \n",
              "std       0.773938    54.958389        79.918669            699.366334   \n",
              "min       3.504752    20.211267        17.000000            247.613182   \n",
              "25%       5.971693    64.551686        94.000000           1479.558114   \n",
              "50%       6.425045    94.867624       146.000000           1927.883340   \n",
              "75%       6.923643   124.267508       179.000000           2255.752423   \n",
              "max       9.935091   298.560117       385.000000           4073.159566   \n",
              "\n",
              "       Log_Rainfall  Label_Encoded  \n",
              "count   2200.000000    2200.000000  \n",
              "mean       4.508730      10.500000  \n",
              "std        0.545400       6.345731  \n",
              "min        3.054533       0.000000  \n",
              "25%        4.182839       5.000000  \n",
              "50%        4.562968      10.500000  \n",
              "75%        4.830451      16.000000  \n",
              "max        5.702315      21.000000  "
            ],
            "text/html": [
              "\n",
              "  <div id=\"df-f7a014b6-94d6-40a3-9bd0-0b1db922e52d\" class=\"colab-df-container\">\n",
              "    <div>\n",
              "<style scoped>\n",
              "    .dataframe tbody tr th:only-of-type {\n",
              "        vertical-align: middle;\n",
              "    }\n",
              "\n",
              "    .dataframe tbody tr th {\n",
              "        vertical-align: top;\n",
              "    }\n",
              "\n",
              "    .dataframe thead th {\n",
              "        text-align: right;\n",
              "    }\n",
              "</style>\n",
              "<table border=\"1\" class=\"dataframe\">\n",
              "  <thead>\n",
              "    <tr style=\"text-align: right;\">\n",
              "      <th></th>\n",
              "      <th>N</th>\n",
              "      <th>P</th>\n",
              "      <th>K</th>\n",
              "      <th>temperature</th>\n",
              "      <th>humidity</th>\n",
              "      <th>ph</th>\n",
              "      <th>rainfall</th>\n",
              "      <th>Total_Nutrients</th>\n",
              "      <th>Temperature_Humidity</th>\n",
              "      <th>Log_Rainfall</th>\n",
              "      <th>Label_Encoded</th>\n",
              "    </tr>\n",
              "  </thead>\n",
              "  <tbody>\n",
              "    <tr>\n",
              "      <th>count</th>\n",
              "      <td>2200.000000</td>\n",
              "      <td>2200.000000</td>\n",
              "      <td>2200.000000</td>\n",
              "      <td>2200.000000</td>\n",
              "      <td>2200.000000</td>\n",
              "      <td>2200.000000</td>\n",
              "      <td>2200.000000</td>\n",
              "      <td>2200.000000</td>\n",
              "      <td>2200.000000</td>\n",
              "      <td>2200.000000</td>\n",
              "      <td>2200.000000</td>\n",
              "    </tr>\n",
              "    <tr>\n",
              "      <th>mean</th>\n",
              "      <td>50.551818</td>\n",
              "      <td>53.362727</td>\n",
              "      <td>48.149091</td>\n",
              "      <td>25.616244</td>\n",
              "      <td>71.481779</td>\n",
              "      <td>6.469480</td>\n",
              "      <td>103.463655</td>\n",
              "      <td>152.063636</td>\n",
              "      <td>1854.231566</td>\n",
              "      <td>4.508730</td>\n",
              "      <td>10.500000</td>\n",
              "    </tr>\n",
              "    <tr>\n",
              "      <th>std</th>\n",
              "      <td>36.917334</td>\n",
              "      <td>32.985883</td>\n",
              "      <td>50.647931</td>\n",
              "      <td>5.063749</td>\n",
              "      <td>22.263812</td>\n",
              "      <td>0.773938</td>\n",
              "      <td>54.958389</td>\n",
              "      <td>79.918669</td>\n",
              "      <td>699.366334</td>\n",
              "      <td>0.545400</td>\n",
              "      <td>6.345731</td>\n",
              "    </tr>\n",
              "    <tr>\n",
              "      <th>min</th>\n",
              "      <td>0.000000</td>\n",
              "      <td>5.000000</td>\n",
              "      <td>5.000000</td>\n",
              "      <td>8.825675</td>\n",
              "      <td>14.258040</td>\n",
              "      <td>3.504752</td>\n",
              "      <td>20.211267</td>\n",
              "      <td>17.000000</td>\n",
              "      <td>247.613182</td>\n",
              "      <td>3.054533</td>\n",
              "      <td>0.000000</td>\n",
              "    </tr>\n",
              "    <tr>\n",
              "      <th>25%</th>\n",
              "      <td>21.000000</td>\n",
              "      <td>28.000000</td>\n",
              "      <td>20.000000</td>\n",
              "      <td>22.769375</td>\n",
              "      <td>60.261953</td>\n",
              "      <td>5.971693</td>\n",
              "      <td>64.551686</td>\n",
              "      <td>94.000000</td>\n",
              "      <td>1479.558114</td>\n",
              "      <td>4.182839</td>\n",
              "      <td>5.000000</td>\n",
              "    </tr>\n",
              "    <tr>\n",
              "      <th>50%</th>\n",
              "      <td>37.000000</td>\n",
              "      <td>51.000000</td>\n",
              "      <td>32.000000</td>\n",
              "      <td>25.598693</td>\n",
              "      <td>80.473146</td>\n",
              "      <td>6.425045</td>\n",
              "      <td>94.867624</td>\n",
              "      <td>146.000000</td>\n",
              "      <td>1927.883340</td>\n",
              "      <td>4.562968</td>\n",
              "      <td>10.500000</td>\n",
              "    </tr>\n",
              "    <tr>\n",
              "      <th>75%</th>\n",
              "      <td>84.250000</td>\n",
              "      <td>68.000000</td>\n",
              "      <td>49.000000</td>\n",
              "      <td>28.561654</td>\n",
              "      <td>89.948771</td>\n",
              "      <td>6.923643</td>\n",
              "      <td>124.267508</td>\n",
              "      <td>179.000000</td>\n",
              "      <td>2255.752423</td>\n",
              "      <td>4.830451</td>\n",
              "      <td>16.000000</td>\n",
              "    </tr>\n",
              "    <tr>\n",
              "      <th>max</th>\n",
              "      <td>140.000000</td>\n",
              "      <td>145.000000</td>\n",
              "      <td>205.000000</td>\n",
              "      <td>43.675493</td>\n",
              "      <td>99.981876</td>\n",
              "      <td>9.935091</td>\n",
              "      <td>298.560117</td>\n",
              "      <td>385.000000</td>\n",
              "      <td>4073.159566</td>\n",
              "      <td>5.702315</td>\n",
              "      <td>21.000000</td>\n",
              "    </tr>\n",
              "  </tbody>\n",
              "</table>\n",
              "</div>\n",
              "    <div class=\"colab-df-buttons\">\n",
              "\n",
              "  <div class=\"colab-df-container\">\n",
              "    <button class=\"colab-df-convert\" onclick=\"convertToInteractive('df-f7a014b6-94d6-40a3-9bd0-0b1db922e52d')\"\n",
              "            title=\"Convert this dataframe to an interactive table.\"\n",
              "            style=\"display:none;\">\n",
              "\n",
              "  <svg xmlns=\"http://www.w3.org/2000/svg\" height=\"24px\" viewBox=\"0 -960 960 960\">\n",
              "    <path d=\"M120-120v-720h720v720H120Zm60-500h600v-160H180v160Zm220 220h160v-160H400v160Zm0 220h160v-160H400v160ZM180-400h160v-160H180v160Zm440 0h160v-160H620v160ZM180-180h160v-160H180v160Zm440 0h160v-160H620v160Z\"/>\n",
              "  </svg>\n",
              "    </button>\n",
              "\n",
              "  <style>\n",
              "    .colab-df-container {\n",
              "      display:flex;\n",
              "      gap: 12px;\n",
              "    }\n",
              "\n",
              "    .colab-df-convert {\n",
              "      background-color: #E8F0FE;\n",
              "      border: none;\n",
              "      border-radius: 50%;\n",
              "      cursor: pointer;\n",
              "      display: none;\n",
              "      fill: #1967D2;\n",
              "      height: 32px;\n",
              "      padding: 0 0 0 0;\n",
              "      width: 32px;\n",
              "    }\n",
              "\n",
              "    .colab-df-convert:hover {\n",
              "      background-color: #E2EBFA;\n",
              "      box-shadow: 0px 1px 2px rgba(60, 64, 67, 0.3), 0px 1px 3px 1px rgba(60, 64, 67, 0.15);\n",
              "      fill: #174EA6;\n",
              "    }\n",
              "\n",
              "    .colab-df-buttons div {\n",
              "      margin-bottom: 4px;\n",
              "    }\n",
              "\n",
              "    [theme=dark] .colab-df-convert {\n",
              "      background-color: #3B4455;\n",
              "      fill: #D2E3FC;\n",
              "    }\n",
              "\n",
              "    [theme=dark] .colab-df-convert:hover {\n",
              "      background-color: #434B5C;\n",
              "      box-shadow: 0px 1px 3px 1px rgba(0, 0, 0, 0.15);\n",
              "      filter: drop-shadow(0px 1px 2px rgba(0, 0, 0, 0.3));\n",
              "      fill: #FFFFFF;\n",
              "    }\n",
              "  </style>\n",
              "\n",
              "    <script>\n",
              "      const buttonEl =\n",
              "        document.querySelector('#df-f7a014b6-94d6-40a3-9bd0-0b1db922e52d button.colab-df-convert');\n",
              "      buttonEl.style.display =\n",
              "        google.colab.kernel.accessAllowed ? 'block' : 'none';\n",
              "\n",
              "      async function convertToInteractive(key) {\n",
              "        const element = document.querySelector('#df-f7a014b6-94d6-40a3-9bd0-0b1db922e52d');\n",
              "        const dataTable =\n",
              "          await google.colab.kernel.invokeFunction('convertToInteractive',\n",
              "                                                    [key], {});\n",
              "        if (!dataTable) return;\n",
              "\n",
              "        const docLinkHtml = 'Like what you see? Visit the ' +\n",
              "          '<a target=\"_blank\" href=https://colab.research.google.com/notebooks/data_table.ipynb>data table notebook</a>'\n",
              "          + ' to learn more about interactive tables.';\n",
              "        element.innerHTML = '';\n",
              "        dataTable['output_type'] = 'display_data';\n",
              "        await google.colab.output.renderOutput(dataTable, element);\n",
              "        const docLink = document.createElement('div');\n",
              "        docLink.innerHTML = docLinkHtml;\n",
              "        element.appendChild(docLink);\n",
              "      }\n",
              "    </script>\n",
              "  </div>\n",
              "\n",
              "\n",
              "<div id=\"df-cdea63b8-2631-4a4b-9f03-ccdda9390ec0\">\n",
              "  <button class=\"colab-df-quickchart\" onclick=\"quickchart('df-cdea63b8-2631-4a4b-9f03-ccdda9390ec0')\"\n",
              "            title=\"Suggest charts\"\n",
              "            style=\"display:none;\">\n",
              "\n",
              "<svg xmlns=\"http://www.w3.org/2000/svg\" height=\"24px\"viewBox=\"0 0 24 24\"\n",
              "     width=\"24px\">\n",
              "    <g>\n",
              "        <path d=\"M19 3H5c-1.1 0-2 .9-2 2v14c0 1.1.9 2 2 2h14c1.1 0 2-.9 2-2V5c0-1.1-.9-2-2-2zM9 17H7v-7h2v7zm4 0h-2V7h2v10zm4 0h-2v-4h2v4z\"/>\n",
              "    </g>\n",
              "</svg>\n",
              "  </button>\n",
              "\n",
              "<style>\n",
              "  .colab-df-quickchart {\n",
              "      --bg-color: #E8F0FE;\n",
              "      --fill-color: #1967D2;\n",
              "      --hover-bg-color: #E2EBFA;\n",
              "      --hover-fill-color: #174EA6;\n",
              "      --disabled-fill-color: #AAA;\n",
              "      --disabled-bg-color: #DDD;\n",
              "  }\n",
              "\n",
              "  [theme=dark] .colab-df-quickchart {\n",
              "      --bg-color: #3B4455;\n",
              "      --fill-color: #D2E3FC;\n",
              "      --hover-bg-color: #434B5C;\n",
              "      --hover-fill-color: #FFFFFF;\n",
              "      --disabled-bg-color: #3B4455;\n",
              "      --disabled-fill-color: #666;\n",
              "  }\n",
              "\n",
              "  .colab-df-quickchart {\n",
              "    background-color: var(--bg-color);\n",
              "    border: none;\n",
              "    border-radius: 50%;\n",
              "    cursor: pointer;\n",
              "    display: none;\n",
              "    fill: var(--fill-color);\n",
              "    height: 32px;\n",
              "    padding: 0;\n",
              "    width: 32px;\n",
              "  }\n",
              "\n",
              "  .colab-df-quickchart:hover {\n",
              "    background-color: var(--hover-bg-color);\n",
              "    box-shadow: 0 1px 2px rgba(60, 64, 67, 0.3), 0 1px 3px 1px rgba(60, 64, 67, 0.15);\n",
              "    fill: var(--button-hover-fill-color);\n",
              "  }\n",
              "\n",
              "  .colab-df-quickchart-complete:disabled,\n",
              "  .colab-df-quickchart-complete:disabled:hover {\n",
              "    background-color: var(--disabled-bg-color);\n",
              "    fill: var(--disabled-fill-color);\n",
              "    box-shadow: none;\n",
              "  }\n",
              "\n",
              "  .colab-df-spinner {\n",
              "    border: 2px solid var(--fill-color);\n",
              "    border-color: transparent;\n",
              "    border-bottom-color: var(--fill-color);\n",
              "    animation:\n",
              "      spin 1s steps(1) infinite;\n",
              "  }\n",
              "\n",
              "  @keyframes spin {\n",
              "    0% {\n",
              "      border-color: transparent;\n",
              "      border-bottom-color: var(--fill-color);\n",
              "      border-left-color: var(--fill-color);\n",
              "    }\n",
              "    20% {\n",
              "      border-color: transparent;\n",
              "      border-left-color: var(--fill-color);\n",
              "      border-top-color: var(--fill-color);\n",
              "    }\n",
              "    30% {\n",
              "      border-color: transparent;\n",
              "      border-left-color: var(--fill-color);\n",
              "      border-top-color: var(--fill-color);\n",
              "      border-right-color: var(--fill-color);\n",
              "    }\n",
              "    40% {\n",
              "      border-color: transparent;\n",
              "      border-right-color: var(--fill-color);\n",
              "      border-top-color: var(--fill-color);\n",
              "    }\n",
              "    60% {\n",
              "      border-color: transparent;\n",
              "      border-right-color: var(--fill-color);\n",
              "    }\n",
              "    80% {\n",
              "      border-color: transparent;\n",
              "      border-right-color: var(--fill-color);\n",
              "      border-bottom-color: var(--fill-color);\n",
              "    }\n",
              "    90% {\n",
              "      border-color: transparent;\n",
              "      border-bottom-color: var(--fill-color);\n",
              "    }\n",
              "  }\n",
              "</style>\n",
              "\n",
              "  <script>\n",
              "    async function quickchart(key) {\n",
              "      const quickchartButtonEl =\n",
              "        document.querySelector('#' + key + ' button');\n",
              "      quickchartButtonEl.disabled = true;  // To prevent multiple clicks.\n",
              "      quickchartButtonEl.classList.add('colab-df-spinner');\n",
              "      try {\n",
              "        const charts = await google.colab.kernel.invokeFunction(\n",
              "            'suggestCharts', [key], {});\n",
              "      } catch (error) {\n",
              "        console.error('Error during call to suggestCharts:', error);\n",
              "      }\n",
              "      quickchartButtonEl.classList.remove('colab-df-spinner');\n",
              "      quickchartButtonEl.classList.add('colab-df-quickchart-complete');\n",
              "    }\n",
              "    (() => {\n",
              "      let quickchartButtonEl =\n",
              "        document.querySelector('#df-cdea63b8-2631-4a4b-9f03-ccdda9390ec0 button');\n",
              "      quickchartButtonEl.style.display =\n",
              "        google.colab.kernel.accessAllowed ? 'block' : 'none';\n",
              "    })();\n",
              "  </script>\n",
              "</div>\n",
              "\n",
              "    </div>\n",
              "  </div>\n"
            ],
            "application/vnd.google.colaboratory.intrinsic+json": {
              "type": "dataframe",
              "summary": "{\n  \"name\": \"df\",\n  \"rows\": 8,\n  \"fields\": [\n    {\n      \"column\": \"N\",\n      \"properties\": {\n        \"dtype\": \"number\",\n        \"std\": 760.356530407134,\n        \"min\": 0.0,\n        \"max\": 2200.0,\n        \"num_unique_values\": 8,\n        \"samples\": [\n          50.551818181818184,\n          37.0,\n          2200.0\n        ],\n        \"semantic_type\": \"\",\n        \"description\": \"\"\n      }\n    },\n    {\n      \"column\": \"P\",\n      \"properties\": {\n        \"dtype\": \"number\",\n        \"std\": 759.584792033131,\n        \"min\": 5.0,\n        \"max\": 2200.0,\n        \"num_unique_values\": 8,\n        \"samples\": [\n          53.36272727272727,\n          51.0,\n          2200.0\n        ],\n        \"semantic_type\": \"\",\n        \"description\": \"\"\n      }\n    },\n    {\n      \"column\": \"K\",\n      \"properties\": {\n        \"dtype\": \"number\",\n        \"std\": 759.6407502585978,\n        \"min\": 5.0,\n        \"max\": 2200.0,\n        \"num_unique_values\": 8,\n        \"samples\": [\n          48.14909090909091,\n          32.0,\n          2200.0\n        ],\n        \"semantic_type\": \"\",\n        \"description\": \"\"\n      }\n    },\n    {\n      \"column\": \"temperature\",\n      \"properties\": {\n        \"dtype\": \"number\",\n        \"std\": 769.8229256870056,\n        \"min\": 5.063748599958843,\n        \"max\": 2200.0,\n        \"num_unique_values\": 8,\n        \"samples\": [\n          25.616243851779544,\n          25.5986932,\n          2200.0\n        ],\n        \"semantic_type\": \"\",\n        \"description\": \"\"\n      }\n    },\n    {\n      \"column\": \"humidity\",\n      \"properties\": {\n        \"dtype\": \"number\",\n        \"std\": 756.2767059184814,\n        \"min\": 14.25803981,\n        \"max\": 2200.0,\n        \"num_unique_values\": 8,\n        \"samples\": [\n          71.48177921778637,\n          80.473145665,\n          2200.0\n        ],\n        \"semantic_type\": \"\",\n        \"description\": \"\"\n      }\n    },\n    {\n      \"column\": \"ph\",\n      \"properties\": {\n        \"dtype\": \"number\",\n        \"std\": 775.8015470082166,\n        \"min\": 0.7739376880298733,\n        \"max\": 2200.0,\n        \"num_unique_values\": 8,\n        \"samples\": [\n          6.469480065256364,\n          6.42504527,\n          2200.0\n        ],\n        \"semantic_type\": \"\",\n        \"description\": \"\"\n      }\n    },\n    {\n      \"column\": \"rainfall\",\n      \"properties\": {\n        \"dtype\": \"number\",\n        \"std\": 744.1226388679374,\n        \"min\": 20.21126747,\n        \"max\": 2200.0,\n        \"num_unique_values\": 8,\n        \"samples\": [\n          103.46365541576817,\n          94.86762427,\n          2200.0\n        ],\n        \"semantic_type\": \"\",\n        \"description\": \"\"\n      }\n    },\n    {\n      \"column\": \"Total_Nutrients\",\n      \"properties\": {\n        \"dtype\": \"number\",\n        \"std\": 732.6547236104238,\n        \"min\": 17.0,\n        \"max\": 2200.0,\n        \"num_unique_values\": 8,\n        \"samples\": [\n          152.06363636363636,\n          146.0,\n          2200.0\n        ],\n        \"semantic_type\": \"\",\n        \"description\": \"\"\n      }\n    },\n    {\n      \"column\": \"Temperature_Humidity\",\n      \"properties\": {\n        \"dtype\": \"number\",\n        \"std\": 1150.4035609371083,\n        \"min\": 247.6131816,\n        \"max\": 4073.159566,\n        \"num_unique_values\": 8,\n        \"samples\": [\n          1854.2315663597728,\n          1927.8833395000001,\n          2200.0\n        ],\n        \"semantic_type\": \"\",\n        \"description\": \"\"\n      }\n    },\n    {\n      \"column\": \"Log_Rainfall\",\n      \"properties\": {\n        \"dtype\": \"number\",\n        \"std\": 776.435756316056,\n        \"min\": 0.5453997953418638,\n        \"max\": 2200.0,\n        \"num_unique_values\": 8,\n        \"samples\": [\n          4.50872957356409,\n          4.562967926,\n          2200.0\n        ],\n        \"semantic_type\": \"\",\n        \"description\": \"\"\n      }\n    },\n    {\n      \"column\": \"Label_Encoded\",\n      \"properties\": {\n        \"dtype\": \"number\",\n        \"std\": 774.3422565885081,\n        \"min\": 0.0,\n        \"max\": 2200.0,\n        \"num_unique_values\": 7,\n        \"samples\": [\n          2200.0,\n          10.5,\n          16.0\n        ],\n        \"semantic_type\": \"\",\n        \"description\": \"\"\n      }\n    }\n  ]\n}"
            }
          },
          "metadata": {},
          "execution_count": 207
        }
      ]
    },
    {
      "cell_type": "markdown",
      "source": [
        "**Conclusion**: No null values in the set. 'Lable' and 'Lable_Encoded' are output variables and should'nt be added as features.\n",
        "\n",
        "---"
      ],
      "metadata": {
        "id": "T2zQo0FqJb99"
      }
    },
    {
      "cell_type": "code",
      "source": [
        "#checking the distribution of Lable class\n",
        "df['Label'].value_counts()"
      ],
      "metadata": {
        "colab": {
          "base_uri": "https://localhost:8080/"
        },
        "id": "aYJ69K2auhQc",
        "outputId": "67b8155d-0cf3-4e86-be6c-352e88731abc"
      },
      "execution_count": 208,
      "outputs": [
        {
          "output_type": "execute_result",
          "data": {
            "text/plain": [
              "Label\n",
              "wheat               100\n",
              "barley              100\n",
              "rapeseed            100\n",
              "potatoes            100\n",
              "apples              100\n",
              "strawberries        100\n",
              "blackcurrants       100\n",
              "pears               100\n",
              "raspberries         100\n",
              "plums               100\n",
              "cherries            100\n",
              "beets               100\n",
              "carrots             100\n",
              "turnips             100\n",
              "peas                100\n",
              "beans               100\n",
              "cabbage             100\n",
              "brussels_sprouts    100\n",
              "cauliflower         100\n",
              "spinach             100\n",
              "lettuce             100\n",
              "tomatoes            100\n",
              "Name: count, dtype: int64"
            ]
          },
          "metadata": {},
          "execution_count": 208
        }
      ]
    },
    {
      "cell_type": "code",
      "source": [
        "min_values = df.min()\n",
        "max_values = df.max()\n",
        "print(\"Minimum Values in Each Column:\")\n",
        "print(min_values)\n",
        "print(\"\\nMaximum Values in Each Column:\")\n",
        "print(max_values)"
      ],
      "metadata": {
        "colab": {
          "base_uri": "https://localhost:8080/"
        },
        "id": "7Lm9yEFMyfGc",
        "outputId": "7013bf38-39d8-443d-fa5a-86b9aaa5b7f4"
      },
      "execution_count": 209,
      "outputs": [
        {
          "output_type": "stream",
          "name": "stdout",
          "text": [
            "Minimum Values in Each Column:\n",
            "N                                0\n",
            "P                                5\n",
            "K                                5\n",
            "temperature               8.825675\n",
            "humidity                  14.25804\n",
            "ph                        3.504752\n",
            "rainfall                 20.211267\n",
            "Total_Nutrients                 17\n",
            "Temperature_Humidity    247.613182\n",
            "Log_Rainfall              3.054533\n",
            "Label                       apples\n",
            "Label_Encoded                    0\n",
            "dtype: object\n",
            "\n",
            "Maximum Values in Each Column:\n",
            "N                               140\n",
            "P                               145\n",
            "K                               205\n",
            "temperature               43.675493\n",
            "humidity                  99.981876\n",
            "ph                         9.935091\n",
            "rainfall                 298.560117\n",
            "Total_Nutrients                 385\n",
            "Temperature_Humidity    4073.159566\n",
            "Log_Rainfall               5.702315\n",
            "Label                         wheat\n",
            "Label_Encoded                    21\n",
            "dtype: object\n"
          ]
        }
      ]
    },
    {
      "cell_type": "markdown",
      "source": [
        "**Conclusion**: Since value ranges are two heigh need to rescale.\n",
        "\n",
        "---\n",
        "\n"
      ],
      "metadata": {
        "id": "batVDY1rv1lb"
      }
    },
    {
      "cell_type": "markdown",
      "source": [
        "Representation of the relationships among features (excluding Lable data column)"
      ],
      "metadata": {
        "id": "wVpYXDfYn9Lj"
      }
    },
    {
      "cell_type": "code",
      "source": [
        "numeric_df = df.select_dtypes(include=['float64', 'int64'])\n",
        "\n",
        "numeric_df_label = numeric_df.copy()\n",
        "numeric_df_label['Label'] = df['Label']"
      ],
      "metadata": {
        "id": "XN8zd3Tql82S"
      },
      "execution_count": 210,
      "outputs": []
    },
    {
      "cell_type": "markdown",
      "source": [
        "1. Pairplot to visualize the relationships between features, colored by 'Label'\n",
        "\n"
      ],
      "metadata": {
        "id": "bqH3IJyktJz-"
      }
    },
    {
      "cell_type": "code",
      "source": [
        "#sns.pairplot(numeric_df_label, hue='Label')"
      ],
      "metadata": {
        "id": "EJx09RmmsqtC"
      },
      "execution_count": 211,
      "outputs": []
    },
    {
      "cell_type": "markdown",
      "source": [
        "2. Creating a correlation matrix heatmap."
      ],
      "metadata": {
        "id": "oTNH4A3Qp_Xr"
      }
    },
    {
      "cell_type": "code",
      "source": [
        "fig, ax = plt.subplots(1, 1, figsize=(10, 6))\n",
        "sns.heatmap(numeric_df.corr(), annot=True, cmap='magma', ax=ax)\n",
        "ax.set_xlabel('Features')  # xlabel set correctly\n",
        "ax.set_ylabel('Features')  # ylabel set correctly\n",
        "\n",
        "plt.title('Correlation between features', fontsize=15, color='black')\n",
        "plt.show()"
      ],
      "metadata": {
        "colab": {
          "base_uri": "https://localhost:8080/",
          "height": 710
        },
        "id": "ftAV0VZBqyIS",
        "outputId": "e22571e0-7f4a-4c0f-d1af-83a9e3d24ba1"
      },
      "execution_count": 212,
      "outputs": [
        {
          "output_type": "display_data",
          "data": {
            "text/plain": [
              "<Figure size 1000x600 with 2 Axes>"
            ],
            "image/png": "[encoded data removed]"
          },
          "metadata": {}
        }
      ]
    },
    {
      "cell_type": "markdown",
      "source": [
        "**Conclusion:**\n",
        "\n",
        "\n",
        "\n",
        "*   core features [N, P, K, temperature, humidity, ph, rainfall]\n",
        "*   derived features [Total_Nutrients, Temperature_Humidity, Log_Rainfall]\n",
        "*   output lables [Lables, Lable_Encoded]\n",
        "\n",
        "\n",
        "\n",
        "\n",
        "\n",
        "**Note:**\n",
        "\n",
        "\n",
        "*   Rainfall and Log_rainfall shows heigh corelation. Should add only one.\n",
        "*   Others are dismissble(need to test out more for potential relations)\n",
        "\n",
        "\n",
        "---"
      ],
      "metadata": {
        "id": "QMr_jr5Tw8hq"
      }
    },
    {
      "cell_type": "markdown",
      "source": [
        "# 2. Preprocessing"
      ],
      "metadata": {
        "id": "6BAHoM0kx8EF"
      }
    },
    {
      "cell_type": "code",
      "source": [
        "from sklearn.model_selection import train_test_split\n",
        "from sklearn.preprocessing import MinMaxScaler"
      ],
      "metadata": {
        "id": "0nzvCB09Zm6c"
      },
      "execution_count": 213,
      "outputs": []
    },
    {
      "cell_type": "markdown",
      "source": [
        "Define the features and the Output target."
      ],
      "metadata": {
        "id": "wR24WdWyiF66"
      }
    },
    {
      "cell_type": "code",
      "source": [
        "X = df.drop(['Label', 'Label_Encoded', 'Label_Encoded'], axis=1)  # drop output features, including unwanted features\n",
        "y = df['Label']  # Target variable"
      ],
      "metadata": {
        "id": "6JBXJGQAgg8M"
      },
      "execution_count": 214,
      "outputs": []
    },
    {
      "cell_type": "markdown",
      "source": [
        "Splitting the data (70% train - 30% test)"
      ],
      "metadata": {
        "id": "NQkE6z7piNwL"
      }
    },
    {
      "cell_type": "code",
      "source": [
        "X_train, X_test, y_train, y_test = train_test_split(X, y, test_size=0.3, stratify=y, random_state=42)\n"
      ],
      "metadata": {
        "id": "R3SzkfXmgiss"
      },
      "execution_count": 215,
      "outputs": []
    },
    {
      "cell_type": "markdown",
      "source": [
        "Choose only numeric data to scale."
      ],
      "metadata": {
        "id": "5v-gEofzicUM"
      }
    },
    {
      "cell_type": "code",
      "source": [
        "# Only numeric columns (excluding 'Label')\n",
        "numeric_cols = ['N', 'P', 'K', 'temperature', 'humidity', 'ph', 'rainfall', 'Total_Nutrients', 'Temperature_Humidity']\n"
      ],
      "metadata": {
        "id": "2VBcdaCagtAT"
      },
      "execution_count": 216,
      "outputs": []
    },
    {
      "cell_type": "markdown",
      "source": [
        "Scaler initialization (MinMax)"
      ],
      "metadata": {
        "id": "YF7FLWU7io8D"
      }
    },
    {
      "cell_type": "code",
      "source": [
        "scaler = MinMaxScaler()\n",
        "\n",
        "# Apply Min-Max scaling only on numeric columns of training data\n",
        "X_train[numeric_cols] = scaler.fit_transform(X_train[numeric_cols])\n",
        "# Apply the same scaling to the numeric columns of testing data\n",
        "X_test[numeric_cols] = scaler.transform(X_test[numeric_cols])\n"
      ],
      "metadata": {
        "id": "9QQ4fSNBgy7a"
      },
      "execution_count": 217,
      "outputs": []
    },
    {
      "cell_type": "markdown",
      "source": [
        "Re add Lable and save test and train sets separately."
      ],
      "metadata": {
        "id": "34chVCJDi4ZR"
      }
    },
    {
      "cell_type": "code",
      "source": [
        "# Prepare the final training data\n",
        "train_data = X_train.copy()\n",
        "train_data['Label'] = y_train  # Adding the labels back to the training data\n",
        "train_data.to_csv('/content/data/Train_Dataset.csv', index=False)\n",
        "\n",
        "# Prepare the final testing data\n",
        "test_data = X_test.copy()\n",
        "test_data['Label'] = y_test  # Adding the labels back to the testing data\n",
        "test_data.to_csv('/content/data/Test_Dataset.csv', index=False)\n",
        "\n",
        "print(train_data.head())"
      ],
      "metadata": {
        "colab": {
          "base_uri": "https://localhost:8080/"
        },
        "id": "P0rP0-mrg7cm",
        "outputId": "63b92f2a-d940-42f9-ce0b-2d47c291aa33"
      },
      "execution_count": 218,
      "outputs": [
        {
          "output_type": "stream",
          "name": "stdout",
          "text": [
            "             N         P      K  temperature  humidity        ph  rainfall  \\\n",
            "264   0.371429  0.485714  0.370     0.244574  0.052394  0.674885  0.264863   \n",
            "190   0.564286  0.385714  0.060     0.335137  0.577208  0.488450  0.317022   \n",
            "1204  0.171429  0.900000  0.955     0.383082  0.810576  0.346340  0.161790   \n",
            "1291  0.100000  0.828571  0.990     0.026070  0.810622  0.412775  0.194590   \n",
            "1486  0.607143  0.114286  0.210     0.610494  0.890666  0.417152  0.015599   \n",
            "\n",
            "      Total_Nutrients  Temperature_Humidity  Log_Rainfall        Label  \n",
            "264          0.509537              0.019330      4.553907      lettuce  \n",
            "190          0.376022              0.275700      4.695974       barley  \n",
            "1204         0.910082              0.419240      4.194859     cherries  \n",
            "1291         0.874659              0.148335      4.323657     cherries  \n",
            "1486         0.370572              0.645715      3.246382  raspberries  \n"
          ]
        }
      ]
    },
    {
      "cell_type": "markdown",
      "source": [
        "**note**: didn't add Lable_Encoded back. droped Log_rainfall.\n",
        "\n",
        "---"
      ],
      "metadata": {
        "id": "tbysgYk-BRCL"
      }
    },
    {
      "cell_type": "markdown",
      "source": [
        "# 3. Model Training"
      ],
      "metadata": {
        "id": "xK6jiMbf50us"
      }
    },
    {
      "cell_type": "markdown",
      "source": [
        "Train using Random Forest, Support Vector Classifier"
      ],
      "metadata": {
        "id": "Q8YkfN9f59zL"
      }
    },
    {
      "cell_type": "code",
      "source": [
        "from sklearn.ensemble import RandomForestClassifier\n",
        "from sklearn.svm import SVC\n",
        "#from xgboost import XGBClassifier\n",
        "import joblib"
      ],
      "metadata": {
        "id": "4Y2rkBV7a4sM"
      },
      "execution_count": 219,
      "outputs": []
    },
    {
      "cell_type": "code",
      "source": [
        "#training data\n",
        "train_data = pd.read_csv('/content/data/Train_Dataset.csv')\n",
        "X_train = train_data.drop('Label', axis=1)\n",
        "y_train = train_data['Label']"
      ],
      "metadata": {
        "id": "OelhWcWG6Fi6"
      },
      "execution_count": 220,
      "outputs": []
    },
    {
      "cell_type": "markdown",
      "source": [
        "Train"
      ],
      "metadata": {
        "id": "1_-kRtA5mkeZ"
      }
    },
    {
      "cell_type": "code",
      "source": [
        "# Random Forest\n",
        "rf_clf = RandomForestClassifier(n_estimators=100, random_state=42)\n",
        "\n",
        "# Support Vector Classifier\n",
        "svc_clf = SVC(kernel='linear', random_state=42)\n",
        "\n",
        "# # Extreme Gradient Boosting\n",
        "# xgb_clf = XGBClassifier(use_label_encoder=False, eval_metric='mlogloss', random_state=42)"
      ],
      "metadata": {
        "id": "v4xui3q0ka3Q"
      },
      "execution_count": 221,
      "outputs": []
    },
    {
      "cell_type": "code",
      "source": [
        "# Training Random Forest\n",
        "rf_clf.fit(X_train, y_train)\n",
        "joblib.dump(rf_clf, '/content/models/random_forest_model.joblib')\n",
        "\n",
        "# Training SVC\n",
        "svc_clf.fit(X_train, y_train)\n",
        "joblib.dump(svc_clf, '/content/models/svc_model.joblib')\n",
        "\n",
        "# # Training XGBoost\n",
        "# xgb_clf.fit(X_train, y_train)\n",
        "# joblib.dump(xgb_clf, '/content/models/xgb_model.joblib')"
      ],
      "metadata": {
        "colab": {
          "base_uri": "https://localhost:8080/"
        },
        "id": "82I7o3Wrkdqj",
        "outputId": "2fb81b27-a3a7-4aa6-8bc7-d9c89f41db5d"
      },
      "execution_count": 222,
      "outputs": [
        {
          "output_type": "execute_result",
          "data": {
            "text/plain": [
              "['/content/models/svc_model.joblib']"
            ]
          },
          "metadata": {},
          "execution_count": 222
        }
      ]
    },
    {
      "cell_type": "markdown",
      "source": [],
      "metadata": {
        "id": "5yFSnfKhkGqk"
      }
    },
    {
      "cell_type": "markdown",
      "source": [
        "# 4. Evaluation"
      ],
      "metadata": {
        "id": "1rN6_mlB7MTi"
      }
    },
    {
      "cell_type": "markdown",
      "source": [
        "Testing the accuracies."
      ],
      "metadata": {
        "id": "yQJ5I-ujmu5V"
      }
    },
    {
      "cell_type": "code",
      "source": [
        "from sklearn.metrics import accuracy_score, classification_report\n",
        "from sklearn.model_selection import cross_val_score"
      ],
      "metadata": {
        "id": "xtQdNjoRe2Js"
      },
      "execution_count": 223,
      "outputs": []
    },
    {
      "cell_type": "code",
      "source": [
        "# Load testing data\n",
        "test_data = pd.read_csv('/content/data/Test_Dataset.csv')\n",
        "X_test = test_data.drop('Label', axis=1)\n",
        "y_test = test_data['Label']"
      ],
      "metadata": {
        "id": "HPmeLGvnmch5"
      },
      "execution_count": 224,
      "outputs": []
    },
    {
      "cell_type": "markdown",
      "source": [
        "Plot the result."
      ],
      "metadata": {
        "id": "25m5kE8InMgl"
      }
    },
    {
      "cell_type": "code",
      "source": [
        "\n",
        "def evaluate_and_plot(model, X_train, y_train, X_test, y_test, model_name):\n",
        "    # Predict on testing set\n",
        "    y_pred = model.predict(X_test)\n",
        "\n",
        "    # Accuracy and classification report\n",
        "    accuracy = accuracy_score(y_test, y_pred)\n",
        "    report = classification_report(y_test, y_pred)\n",
        "    print(f\"Accuracy of {model_name}: {accuracy}\")\n",
        "    print(f\"Classification Report of {model_name}:\\n{report}\")\n",
        "\n",
        "    # Cross-validation\n",
        "    scores = cross_val_score(model, X_train, y_train, cv=5)\n",
        "    print(f\"Cross-Validation Accuracy Scores for {model_name}: {scores.mean()} +/- {scores.std()}\\n\")\n",
        "\n",
        "    # Plotting\n",
        "    return accuracy, scores.mean()"
      ],
      "metadata": {
        "id": "0UkV022UkhsD"
      },
      "execution_count": 225,
      "outputs": []
    },
    {
      "cell_type": "code",
      "source": [
        "# Perform evaluations\n",
        "results = {}\n",
        "results['Random Forest'] = evaluate_and_plot(rf_clf, X_train, y_train, X_test, y_test, \"Random Forest\")\n",
        "results['SVC'] = evaluate_and_plot(svc_clf, X_train, y_train, X_test, y_test, \"SVC\")"
      ],
      "metadata": {
        "colab": {
          "base_uri": "https://localhost:8080/"
        },
        "id": "pCT2vo1PnGhO",
        "outputId": "cfa459fd-380f-499b-8f96-e3f126749616"
      },
      "execution_count": 226,
      "outputs": [
        {
          "output_type": "stream",
          "name": "stdout",
          "text": [
            "Accuracy of Random Forest: 0.9939393939393939\n",
            "Classification Report of Random Forest:\n",
            "                  precision    recall  f1-score   support\n",
            "\n",
            "          apples       1.00      1.00      1.00        30\n",
            "          barley       0.97      1.00      0.98        30\n",
            "           beans       1.00      0.93      0.97        30\n",
            "           beets       1.00      1.00      1.00        30\n",
            "   blackcurrants       1.00      1.00      1.00        30\n",
            "brussels_sprouts       0.97      1.00      0.98        30\n",
            "         cabbage       1.00      1.00      1.00        30\n",
            "         carrots       1.00      1.00      1.00        30\n",
            "     cauliflower       1.00      1.00      1.00        30\n",
            "        cherries       1.00      1.00      1.00        30\n",
            "         lettuce       1.00      1.00      1.00        30\n",
            "           pears       1.00      1.00      1.00        30\n",
            "            peas       1.00      1.00      1.00        30\n",
            "           plums       1.00      1.00      1.00        30\n",
            "        potatoes       1.00      1.00      1.00        30\n",
            "        rapeseed       0.94      1.00      0.97        30\n",
            "     raspberries       1.00      1.00      1.00        30\n",
            "         spinach       1.00      1.00      1.00        30\n",
            "    strawberries       1.00      1.00      1.00        30\n",
            "        tomatoes       1.00      1.00      1.00        30\n",
            "         turnips       1.00      1.00      1.00        30\n",
            "           wheat       1.00      0.93      0.97        30\n",
            "\n",
            "        accuracy                           0.99       660\n",
            "       macro avg       0.99      0.99      0.99       660\n",
            "    weighted avg       0.99      0.99      0.99       660\n",
            "\n",
            "Cross-Validation Accuracy Scores for Random Forest: 0.9928571428571429 +/- 0.0031811555101079973\n",
            "\n",
            "Accuracy of SVC: 0.9757575757575757\n",
            "Classification Report of SVC:\n",
            "                  precision    recall  f1-score   support\n",
            "\n",
            "          apples       1.00      1.00      1.00        30\n",
            "          barley       1.00      0.97      0.98        30\n",
            "           beans       0.94      1.00      0.97        30\n",
            "           beets       1.00      1.00      1.00        30\n",
            "   blackcurrants       1.00      1.00      1.00        30\n",
            "brussels_sprouts       0.97      0.93      0.95        30\n",
            "         cabbage       0.97      1.00      0.98        30\n",
            "         carrots       1.00      1.00      1.00        30\n",
            "     cauliflower       1.00      1.00      1.00        30\n",
            "        cherries       1.00      1.00      1.00        30\n",
            "         lettuce       1.00      1.00      1.00        30\n",
            "           pears       1.00      1.00      1.00        30\n",
            "            peas       1.00      0.97      0.98        30\n",
            "           plums       1.00      1.00      1.00        30\n",
            "        potatoes       0.97      1.00      0.98        30\n",
            "        rapeseed       0.77      1.00      0.87        30\n",
            "     raspberries       1.00      1.00      1.00        30\n",
            "         spinach       1.00      1.00      1.00        30\n",
            "    strawberries       1.00      0.87      0.93        30\n",
            "        tomatoes       1.00      1.00      1.00        30\n",
            "         turnips       1.00      1.00      1.00        30\n",
            "           wheat       0.92      0.73      0.81        30\n",
            "\n",
            "        accuracy                           0.98       660\n",
            "       macro avg       0.98      0.98      0.98       660\n",
            "    weighted avg       0.98      0.98      0.98       660\n",
            "\n",
            "Cross-Validation Accuracy Scores for SVC: 0.9727272727272729 +/- 0.005660907718884009\n",
            "\n"
          ]
        }
      ]
    },
    {
      "cell_type": "code",
      "source": [
        "# Plotting accuracies\n",
        "names = list(results.keys())\n",
        "values = [result[0] for result in results.values()]\n",
        "plt.bar(names, values)\n",
        "plt.title('Comparison of Model Accuracies')\n",
        "plt.ylabel('Accuracy')\n",
        "plt.show()"
      ],
      "metadata": {
        "colab": {
          "base_uri": "https://localhost:8080/",
          "height": 452
        },
        "id": "tcJWNmg_nCaz",
        "outputId": "6d8fb05f-d347-4568-ce77-e3a5807c40de"
      },
      "execution_count": 227,
      "outputs": [
        {
          "output_type": "display_data",
          "data": {
            "text/plain": [
              "<Figure size 640x480 with 1 Axes>"
            ],
            "image/png": "[encoded data removed]"
          },
          "metadata": {}
        }
      ]
    },
    {
      "cell_type": "code",
      "source": [
        "# # Configuring Git coder's name\n",
        "# !git config --global user.name \"Sahan Heshan\"\n",
        "# !git config --global user.email \"dshsamarathunga@gmail.com\"\n",
        "\n",
        "# # Stage changes\n",
        "# !git add ./DataAnalysis.ipynb\n",
        "\n",
        "# # Commit changes\n",
        "# !git commit -m \"Update 0x\"\n",
        "\n",
        "# # Push changes\n",
        "# !git push origin phase1"
      ],
      "metadata": {
        "id": "lkpbdLKecxt8"
      },
      "execution_count": 228,
      "outputs": []
    },
    {
      "cell_type": "markdown",
      "source": [],
      "metadata": {
        "id": "nw5u00Hsaa-8"
      }
    }
  ]
}